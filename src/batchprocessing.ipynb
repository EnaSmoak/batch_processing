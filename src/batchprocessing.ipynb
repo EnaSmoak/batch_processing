{
 "cells": [
  {
   "cell_type": "code",
   "execution_count": 3,
   "metadata": {},
   "outputs": [],
   "source": [
    "import pyspark\n",
    "import boto3\n",
    "from zipfile import ZipFile\n",
    "from string import punctuation, digits\n",
    "from pyspark.sql.types import BooleanType\n",
    "from pyspark.sql.functions import udf\n",
    "from pyspark.sql import functions as F\n",
    "from pyspark.sql import SparkSession, DataFrame\n",
    "from pyspark.ml import Pipeline\n",
    "from pyspark.ml.feature import  NGram, Tokenizer,CountVectorizer, StopWordsRemover\n",
    "import pandas as pd \n",
    "import matplotlib.pyplot as plt\n",
    "%matplotlib inline"
   ]
  },
  {
   "cell_type": "code",
   "execution_count": 23,
   "metadata": {},
   "outputs": [],
   "source": [
    "#download dataset from s3 bucket\n",
    "s3_client.download_file(bucket, \"data-scientist-job-market-in-the-us.zip\", '../data/data-scientist-job-market-in-the-us.zip')"
   ]
  },
  {
   "cell_type": "code",
   "execution_count": 50,
   "metadata": {},
   "outputs": [],
   "source": [
    "#download dataset from s3 bucket\n",
    "s3_client.download_file(bucket, \"all-us-stocks-tickers-company-info-logos.zip\", '../data/all-us-stocks-tickers-company-info-logos.zip')"
   ]
  },
  {
   "cell_type": "code",
   "execution_count": 52,
   "metadata": {},
   "outputs": [],
   "source": [
    "# assign zip file path to variable\n",
    "zipfilepath1='../data/data-scientist-job-market-in-the-us.zip'\n",
    "zipfilepath2='../data/all-us-stocks-tickers-company-info-logos.zip'"
   ]
  },
  {
   "cell_type": "code",
   "execution_count": 48,
   "metadata": {},
   "outputs": [
    {
     "name": "stdout",
     "output_type": "stream",
     "text": [
      "File Name                                             Modified             Size\n",
      "alldata.csv                                    2019-10-04 22:08:26     26925500\n",
      "fulltimeAL.csv                                 2019-10-04 22:08:28      1240633\n",
      "fulltimeAT.csv                                 2019-10-04 22:08:28      1017293\n",
      "fulltimeBO.csv                                 2019-10-04 22:08:28      1409979\n",
      "fulltimeBOS.csv                                2019-10-04 22:08:28      2593568\n",
      "fulltimeCHI.csv                                2019-10-04 22:08:28      2078496\n",
      "fulltimeDC.csv                                 2019-10-04 22:08:30      1649712\n",
      "fulltimeLA.csv                                 2019-10-04 22:08:30      1028997\n",
      "fulltimeMA.csv                                 2019-10-04 22:08:30      2899236\n",
      "fulltimeMV.csv                                 2019-10-04 22:08:30      1035096\n",
      "fulltimeNY.csv                                 2019-10-04 22:08:30      4207217\n",
      "fulltimeRM.csv                                 2019-10-04 22:08:30       692200\n",
      "fulltimeSD.csv                                 2019-10-04 22:08:30      1859986\n",
      "fulltimeSEA.csv                                2019-10-04 22:08:30      3541489\n",
      "fulltimeSF.csv                                 2019-10-04 22:08:30      3903306\n",
      "fulltimeSU.csv                                 2019-10-04 22:08:32      1058373\n",
      "extract files\n",
      "are files extracted\n"
     ]
    }
   ],
   "source": [
    "# extract files (print comments serve as a log)\n",
    "with ZipFile(zipfilepath1, 'r') as zip:\n",
    "    zip.printdir()\n",
    "    print(\"extract files\")\n",
    "    zip.extractall()\n",
    "    print(\"are files extracted\")"
   ]
  },
  {
   "cell_type": "code",
   "execution_count": 53,
   "metadata": {},
   "outputs": [
    {
     "name": "stdout",
     "output_type": "stream",
     "text": [
      "File Name                                             Modified             Size\n",
      "logos.zip                                      2019-02-06 11:07:28     33109728\n",
      "companies.csv                                  2019-02-06 11:07:28      2946449\n",
      "extract files\n",
      "are files extracted\n"
     ]
    }
   ],
   "source": [
    "# extract files (print comments serve as a log)\n",
    "with ZipFile(zipfilepath2, 'r') as zip:\n",
    "    zip.printdir()\n",
    "    print(\"extract files\")\n",
    "    zip.extractall()\n",
    "    print(\"are files extracted\")"
   ]
  },
  {
   "cell_type": "code",
   "execution_count": 7,
   "metadata": {},
   "outputs": [],
   "source": [
    "spark = SparkSession.builder.getOrCreate()"
   ]
  },
  {
   "cell_type": "code",
   "execution_count": 8,
   "metadata": {},
   "outputs": [],
   "source": [
    "ds = spark.read.csv(\"alldata.csv\", header=True, inferSchema=True)\n",
    "companies = spark.read.csv(\"companies.csv\", header=True, inferSchema=True)"
   ]
  },
  {
   "cell_type": "code",
   "execution_count": 10,
   "metadata": {},
   "outputs": [
    {
     "data": {
      "text/plain": [
       "['ticker',\n",
       " 'company name',\n",
       " 'short name',\n",
       " 'industry',\n",
       " 'description',\n",
       " 'website',\n",
       " 'logo',\n",
       " 'ceo',\n",
       " 'exchange',\n",
       " 'market cap',\n",
       " 'sector',\n",
       " 'tag 1',\n",
       " 'tag 2',\n",
       " 'tag 3']"
      ]
     },
     "execution_count": 10,
     "metadata": {},
     "output_type": "execute_result"
    }
   ],
   "source": [
    "# display all columns in dataframe\n",
    "companies.columns"
   ]
  },
  {
   "cell_type": "code",
   "execution_count": 11,
   "metadata": {},
   "outputs": [
    {
     "name": "stdout",
     "output_type": "stream",
     "text": [
      "+--------------------+--------------------+--------------------+--------------------+--------------------+--------------------+---------+--------------------+--------------------+------------+--------------------+--------------------+--------------------+--------------------+\n",
      "|              ticker|        company name|          short name|            industry|         description|             website|     logo|                 ceo|            exchange|  market cap|              sector|               tag 1|               tag 2|               tag 3|\n",
      "+--------------------+--------------------+--------------------+--------------------+--------------------+--------------------+---------+--------------------+--------------------+------------+--------------------+--------------------+--------------------+--------------------+\n",
      "|                   A|Agilent Technolog...|             Agilent|Medical Diagnosti...|Agilent Technolog...|http://www.agilen...|    A.png| Michael R. McMullen|New York Stock Ex...| 24218068096|          Healthcare|          Healthcare|Diagnostics & Res...|Medical Diagnosti...|\n",
      "|                  AA|   Alcoa Corporation|               Alcoa|     Metals & Mining|Alcoa Corp is an ...|http://www.alcoa.com|   AA.png|Roy Christopher H...|New York Stock Ex...|  5374966543|     Basic Materials|     Basic Materials|            Aluminum|     Metals & Mining|\n",
      "|                AABA|         Altaba Inc.|              Altaba|    Asset Management|Altaba Inc is an ...|http://www.altaba...| AABA.png| Thomas J. Mcinerney|Nasdaq Global Select| 41223683414|  Financial Services|  Financial Services|    Asset Management|                null|\n",
      "|                 AAC|   AAC Holdings Inc.|                 AAC|Health Care Provi...|AAC Holdings Inc ...|http://www.americ...|     null|Michael T. Cartwr...|New York Stock Ex...|    63720099|          Healthcare|          Healthcare|        Medical Care|Health Care Provi...|\n",
      "|                AADR|AdvisorShares Dor...|AdvisorShares Dor...|                null|The investment se...|                null|     null|                null|                null|        null|                null|                null|                null|                null|\n",
      "|                 AAL|American Airlines...|   American Airlines|            Airlines|American Airlines...|   http://www.aa.com|  AAL.png|   W. Douglas Parker|Nasdaq Global Select| 16940186209|         Industrials|         Industrials|            Airlines|                null|\n",
      "|                AAMC|Altisource Asset ...|Altisource Asset ...|    Asset Management|Altisource Asset ...|http://www.altiso...|     null|   George G. Ellison|       NYSE American|    44907363|  Financial Services|  Financial Services|    Asset Management|                null|\n",
      "|                AAME|Atlantic American...|   Atlantic American|    Insurance - Life|Atlantic American...|http://www.atlam.com|     null|    Hilton H. Howell|NASDAQ Global Market|    56558079|  Financial Services|  Financial Services|    Insurance - Life|                null|\n",
      "|                 AAN|        Aaron's Inc.|             Aaron's|Consulting & Outs...|Aaron's Inc is a ...|http://www.aarons...|  AAN.png|    John W. Robinson|New York Stock Ex...|  3677542512|         Industrials|         Industrials|Rental & Leasing ...|Consulting & Outs...|\n",
      "|                AAOI|Applied Optoelect...|Applied Optoelect...|      Semiconductors|Applied Optoelect...|http://www.ao-inc...| AAOI.png|Chih-Hsiang Thomp...|NASDAQ Global Market|   352218215|          Technology|          Technology|      Semiconductors|                null|\n",
      "|                AAON|           AAON Inc.|                AAON|  Building Materials|AAON Inc is a hea...| http://www.aaon.com| AAON.png|Norman H. Asbjornson|Nasdaq Global Select|  1961880263|     Basic Materials|     Basic Materials|  Building Materials|                null|\n",
      "|                 AAP|Advance Auto Part...|  Advance Auto Parts|Retail - Apparel ...|Advance Auto Part...|https://shop.adva...|  AAP.png|     Thomas R. Greco|New York Stock Ex...| 11761401561|   Consumer Cyclical|   Consumer Cyclical|    Specialty Retail|Retail - Apparel ...|\n",
      "|                AAPL|          Apple Inc.|               Apple|   Computer Hardware|Apple Inc is desi...|http://www.apple.com| AAPL.png|     Timothy D. Cook|Nasdaq Global Select|807491700000|          Technology|          Technology|Consumer Electronics|   Computer Hardware|\n",
      "|                 AAT|American Assets T...|American Assets T...|               REITs|American Assets T...|http://www.americ...|  AAT.png|         Ernest Rady|New York Stock Ex...|  2032912309|         Real Estate|         Real Estate|       REIT - Retail|               REITs|\n",
      "|                 AAU|Almaden Minerals ...|    Almaden Minerals|     Metals & Mining|Almaden Minerals ...|http://www.almade...|     null|     Morgan Poliquin|       NYSE American|    85303350|     Basic Materials|     Basic Materials|                Gold|     Metals & Mining|\n",
      "|                AAWW|Atlas Air Worldwi...| Atlas Air Worldwide|Transportation & ...|Atlas Air Worldwi...|http://www.atlasa...| AAWW.png|    William J. Flynn|Nasdaq Global Select|  1395182774|         Industrials|         Industrials|Airports & Air Se...|Transportation & ...|\n",
      "|                AAXJ|iShares MSCI All ...|iShares MSCI All ...|                null|The investment se...|                null|     null|                null|                null|        null|                null|                null|                null|                null|\n",
      "| The fund will in...| emerging and fro...|           Hong Kong|               India|           Indonesia|            Malaysia| Pakistan|     the Philippines|           Singapore| South Korea| Taiwan and Thail...|http://www.ishare...|            AAXJ.png|                null|\n",
      "|                AAXN|Axon Enterprise Inc.|     Axon Enterprise| Aerospace & Defense|Axon Enterprise I...|https://www.axon.com| AAXN.png|    Patrick W. Smith|Nasdaq Global Select|  3111680592|         Industrials|         Industrials| Aerospace & Defense|                null|\n",
      "|                  AB|AllianceBernstein...|AllianceBernstein...|    Asset Management|AllianceBernstein...|http://www.allian...|   AB.png|      Seth Bernstein|New York Stock Ex...|  2944027239|  Financial Services|  Financial Services|    Asset Management|                null|\n",
      "+--------------------+--------------------+--------------------+--------------------+--------------------+--------------------+---------+--------------------+--------------------+------------+--------------------+--------------------+--------------------+--------------------+\n",
      "only showing top 20 rows\n",
      "\n"
     ]
    }
   ],
   "source": [
    "companies = companies.filter(companies.description.isNotNull())\n",
    "companies.show()"
   ]
  },
  {
   "cell_type": "code",
   "execution_count": 12,
   "metadata": {},
   "outputs": [
    {
     "name": "stdout",
     "output_type": "stream",
     "text": [
      "+--------------------+\n",
      "|         description|\n",
      "+--------------------+\n",
      "|Agilent Technolog...|\n",
      "|Alcoa Corp is an ...|\n",
      "|Altaba Inc is an ...|\n",
      "|AAC Holdings Inc ...|\n",
      "|The investment se...|\n",
      "|American Airlines...|\n",
      "|Altisource Asset ...|\n",
      "|Atlantic American...|\n",
      "|Aaron's Inc is a ...|\n",
      "|Applied Optoelect...|\n",
      "|AAON Inc is a hea...|\n",
      "|Advance Auto Part...|\n",
      "|Apple Inc is desi...|\n",
      "|American Assets T...|\n",
      "|Almaden Minerals ...|\n",
      "|Atlas Air Worldwi...|\n",
      "|The investment se...|\n",
      "|           Indonesia|\n",
      "|Axon Enterprise I...|\n",
      "|AllianceBernstein...|\n",
      "+--------------------+\n",
      "only showing top 20 rows\n",
      "\n"
     ]
    }
   ],
   "source": [
    "companies.select('description').show()"
   ]
  },
  {
   "cell_type": "code",
   "execution_count": 13,
   "metadata": {},
   "outputs": [
    {
     "data": {
      "text/plain": [
       "['position', 'company', 'description', 'reviews', 'location']"
      ]
     },
     "execution_count": 13,
     "metadata": {},
     "output_type": "execute_result"
    }
   ],
   "source": [
    "# display all columns in dataframe\n",
    "ds.columns"
   ]
  },
  {
   "cell_type": "code",
   "execution_count": 14,
   "metadata": {},
   "outputs": [],
   "source": [
    "# rename column\n",
    "ds = ds.withColumnRenamed('description', 'jobdescription')"
   ]
  },
  {
   "cell_type": "code",
   "execution_count": 15,
   "metadata": {},
   "outputs": [],
   "source": [
    "# rename column\n",
    "companies = companies.withColumnRenamed('description', 'companydescription')"
   ]
  },
  {
   "cell_type": "code",
   "execution_count": 16,
   "metadata": {},
   "outputs": [],
   "source": [
    "# filter null from location column\n",
    "ds = ds.filter(ds.location.isNotNull())"
   ]
  },
  {
   "cell_type": "code",
   "execution_count": 17,
   "metadata": {},
   "outputs": [
    {
     "name": "stdout",
     "output_type": "stream",
     "text": [
      "+--------------------+--------------------+--------------------+--------------------+--------------------+\n",
      "|            position|             company|      jobdescription|             reviews|            location|\n",
      "+--------------------+--------------------+--------------------+--------------------+--------------------+\n",
      "|ALS Therapy Devel...| the Development ...| generating aware...| prospects and do...|                 GA.|\n",
      "|Bachelor's Degree...| written and pres...| as well as the a...|         spreadsheet|            database|\n",
      "|The ALS Therapy D...| the charity unde...|  based in Cambridge|                  MA| has served as on...|\n",
      "|      With that said|             Atlanta| Georgia-based sc...|     Hexagon Lavish®| has an open posi...|\n",
      "|Ph.D. in Computer...|         Mathematics|          Statistics|           Chemistry| or other quantit...|\n",
      "| 5+ years experience| with varying dat...|         Mathematics|    Computer Science| Algorithms/Incor...|\n",
      "|Interact with sta...|             biology|        neuroscience|            clinical| regulatory and p...|\n",
      "| 8. Works with in...|             clarify| and analyze requ...|       and potential| impactful solutions|\n",
      "|        Data Analyst|      Operation HOPE|DEPARTMENT: Progr...|                  44|  Atlanta, GA 30303 |\n",
      "|The Emory Univers...| imaging informatics|      bioinformatics|    machine learning| signal processin...|\n",
      "|Applicants must h...| Biomedical Infor...| data warehousing...| massive scale da...|     cloud computing|\n",
      "|     Founded in 2007| Periscope™ by Mc...| prescriptive ana...| and cloud based ...| with expert supp...|\n",
      "|McKinsey New Vent...|     design thinking| mobile and socia...| strategic acquis...| and a vibrant ec...|\n",
      "|As one of the fas...| New Ventures has...|500 dedicated pro...|     data scientists|           designers|\n",
      "|You'll lead a tea...|        applications| and programming;...|            security|             back-up|\n",
      "|        Additionally| you’ll maintain ...|         integrating| and installing n...| responding to us...|\n",
      "|     Founded in 2007| Periscope™ by Mc...| prescriptive ana...| and cloud based ...|     including sales|\n",
      "|McKinsey New Vent...|     design thinking| mobile and socia...| strategic acquis...| and a vibrant ec...|\n",
      "|As one of the fas...| New Ventures has...|500 dedicated pro...|     data scientists|           designers|\n",
      "|You'll develop an...| working closely ...|  technology leaders|  product developers|     data scientists|\n",
      "+--------------------+--------------------+--------------------+--------------------+--------------------+\n",
      "only showing top 20 rows\n",
      "\n"
     ]
    }
   ],
   "source": [
    "ds.show()"
   ]
  },
  {
   "cell_type": "code",
   "execution_count": 18,
   "metadata": {},
   "outputs": [],
   "source": [
    "ds = ds.filter(ds.location.isNotNull()).withColumn('location', F.split(ds['location'], ',')[0].alias('city'))"
   ]
  },
  {
   "cell_type": "code",
   "execution_count": 19,
   "metadata": {},
   "outputs": [
    {
     "name": "stdout",
     "output_type": "stream",
     "text": [
      "+--------------------+--------------------+--------------------+--------------------+--------------------+\n",
      "|            position|             company|      jobdescription|             reviews|            location|\n",
      "+--------------------+--------------------+--------------------+--------------------+--------------------+\n",
      "|ALS Therapy Devel...| the Development ...| generating aware...| prospects and do...|                 GA.|\n",
      "|Bachelor's Degree...| written and pres...| as well as the a...|         spreadsheet|            database|\n",
      "|The ALS Therapy D...| the charity unde...|  based in Cambridge|                  MA| has served as on...|\n",
      "|      With that said|             Atlanta| Georgia-based sc...|     Hexagon Lavish®| has an open posi...|\n",
      "|Ph.D. in Computer...|         Mathematics|          Statistics|           Chemistry| or other quantit...|\n",
      "| 5+ years experience| with varying dat...|         Mathematics|    Computer Science| Algorithms/Incor...|\n",
      "|Interact with sta...|             biology|        neuroscience|            clinical| regulatory and p...|\n",
      "| 8. Works with in...|             clarify| and analyze requ...|       and potential| impactful solutions|\n",
      "|        Data Analyst|      Operation HOPE|DEPARTMENT: Progr...|                  44|             Atlanta|\n",
      "|The Emory Univers...| imaging informatics|      bioinformatics|    machine learning| signal processin...|\n",
      "|Applicants must h...| Biomedical Infor...| data warehousing...| massive scale da...|     cloud computing|\n",
      "|     Founded in 2007| Periscope™ by Mc...| prescriptive ana...| and cloud based ...| with expert supp...|\n",
      "|McKinsey New Vent...|     design thinking| mobile and socia...| strategic acquis...| and a vibrant ec...|\n",
      "|As one of the fas...| New Ventures has...|500 dedicated pro...|     data scientists|           designers|\n",
      "|You'll lead a tea...|        applications| and programming;...|            security|             back-up|\n",
      "|        Additionally| you’ll maintain ...|         integrating| and installing n...| responding to us...|\n",
      "|     Founded in 2007| Periscope™ by Mc...| prescriptive ana...| and cloud based ...|     including sales|\n",
      "|McKinsey New Vent...|     design thinking| mobile and socia...| strategic acquis...| and a vibrant ec...|\n",
      "|As one of the fas...| New Ventures has...|500 dedicated pro...|     data scientists|           designers|\n",
      "|You'll develop an...| working closely ...|  technology leaders|  product developers|     data scientists|\n",
      "+--------------------+--------------------+--------------------+--------------------+--------------------+\n",
      "only showing top 20 rows\n",
      "\n"
     ]
    }
   ],
   "source": [
    "ds.show()"
   ]
  },
  {
   "cell_type": "code",
   "execution_count": 20,
   "metadata": {},
   "outputs": [],
   "source": [
    "# join the two dataframes \n",
    "joined_data = companies.join(ds,companies.companydescription == ds.jobdescription)"
   ]
  },
  {
   "cell_type": "code",
   "execution_count": 21,
   "metadata": {},
   "outputs": [
    {
     "data": {
      "text/plain": [
       "['ticker',\n",
       " 'company name',\n",
       " 'short name',\n",
       " 'industry',\n",
       " 'companydescription',\n",
       " 'website',\n",
       " 'logo',\n",
       " 'ceo',\n",
       " 'exchange',\n",
       " 'market cap',\n",
       " 'sector',\n",
       " 'tag 1',\n",
       " 'tag 2',\n",
       " 'tag 3',\n",
       " 'position',\n",
       " 'company',\n",
       " 'jobdescription',\n",
       " 'reviews',\n",
       " 'location']"
      ]
     },
     "execution_count": 21,
     "metadata": {},
     "output_type": "execute_result"
    }
   ],
   "source": [
    "# display all columns in dataframe\n",
    "joined_data.columns"
   ]
  },
  {
   "cell_type": "code",
   "execution_count": 22,
   "metadata": {},
   "outputs": [],
   "source": [
    "tokens = Tokenizer(inputCol='companydescription', outputCol='tokens')\n",
    "df = tokens.transform(companies)"
   ]
  },
  {
   "cell_type": "code",
   "execution_count": 23,
   "metadata": {},
   "outputs": [],
   "source": [
    "ngrams = NGram(n=2, inputCol='tokens', outputCol='ngrams')\n",
    "df = ngrams.transform(df)"
   ]
  },
  {
   "cell_type": "code",
   "execution_count": 24,
   "metadata": {},
   "outputs": [
    {
     "data": {
      "text/plain": [
       "['ticker',\n",
       " 'company name',\n",
       " 'short name',\n",
       " 'industry',\n",
       " 'companydescription',\n",
       " 'website',\n",
       " 'logo',\n",
       " 'ceo',\n",
       " 'exchange',\n",
       " 'market cap',\n",
       " 'sector',\n",
       " 'tag 1',\n",
       " 'tag 2',\n",
       " 'tag 3',\n",
       " 'tokens',\n",
       " 'ngrams']"
      ]
     },
     "execution_count": 24,
     "metadata": {},
     "output_type": "execute_result"
    }
   ],
   "source": [
    "# display all columns in dataframe\n",
    "df.columns"
   ]
  },
  {
   "cell_type": "code",
   "execution_count": 26,
   "metadata": {},
   "outputs": [
    {
     "data": {
      "text/plain": [
       "[Row(ngrams=['agilent technologies', 'technologies inc', 'inc is', 'is engaged', 'engaged in', 'in life', 'life sciences,', 'sciences, diagnostics', 'diagnostics and', 'and applied', 'applied chemical', 'chemical markets.', 'markets. the', 'the company', 'company provides', 'provides application', 'application focused', 'focused solutions', 'solutions that', 'that include', 'include instruments,', 'instruments, software,', 'software, services', 'services and', 'and consumables', 'consumables for', 'for the', 'the entire', 'entire laboratory', 'laboratory workflow.'])]"
      ]
     },
     "execution_count": 26,
     "metadata": {},
     "output_type": "execute_result"
    }
   ],
   "source": [
    "df.select('ngrams').limit(1).take(2)"
   ]
  },
  {
   "cell_type": "code",
   "execution_count": 27,
   "metadata": {},
   "outputs": [
    {
     "name": "stdout",
     "output_type": "stream",
     "text": [
      "+--------------------+--------------------+\n",
      "|            industry|              ngrams|\n",
      "+--------------------+--------------------+\n",
      "|Medical Diagnosti...|agilent technologies|\n",
      "|Medical Diagnosti...|    technologies inc|\n",
      "|Medical Diagnosti...|              inc is|\n",
      "|Medical Diagnosti...|          is engaged|\n",
      "|Medical Diagnosti...|          engaged in|\n",
      "|Medical Diagnosti...|             in life|\n",
      "|Medical Diagnosti...|      life sciences,|\n",
      "|Medical Diagnosti...|sciences, diagnos...|\n",
      "|Medical Diagnosti...|     diagnostics and|\n",
      "|Medical Diagnosti...|         and applied|\n",
      "|Medical Diagnosti...|    applied chemical|\n",
      "|Medical Diagnosti...|   chemical markets.|\n",
      "|Medical Diagnosti...|        markets. the|\n",
      "|Medical Diagnosti...|         the company|\n",
      "|Medical Diagnosti...|    company provides|\n",
      "|Medical Diagnosti...|provides application|\n",
      "|Medical Diagnosti...| application focused|\n",
      "|Medical Diagnosti...|   focused solutions|\n",
      "|Medical Diagnosti...|      solutions that|\n",
      "|Medical Diagnosti...|        that include|\n",
      "+--------------------+--------------------+\n",
      "only showing top 20 rows\n",
      "\n"
     ]
    }
   ],
   "source": [
    "new = df.select(['ngrams','industry']).limit(5).select(\n",
    "    'industry',F.explode('ngrams').alias('ngrams')).show()"
   ]
  },
  {
   "cell_type": "code",
   "execution_count": 28,
   "metadata": {},
   "outputs": [],
   "source": [
    "industry_frequency = df.groupBy('industry','ngrams')\\\n",
    "        .count().sort('count', ascending=False)\\\n",
    "        .filter(df.industry.isNotNull() & df.ngrams.isNotNull())"
   ]
  },
  {
   "cell_type": "code",
   "execution_count": 29,
   "metadata": {},
   "outputs": [
    {
     "name": "stdout",
     "output_type": "stream",
     "text": [
      "+--------------------+--------------------+-----+\n",
      "|            industry|              ngrams|count|\n",
      "+--------------------+--------------------+-----+\n",
      "|http://www.prosha...|                  []|   34|\n",
      "|http://www.ftport...|                  []|   30|\n",
      "|http://www.invesc...|                  []|   29|\n",
      "|http://www.ishare...|                  []|   22|\n",
      "| as well as in se...|[ but, but which,...|   21|\n",
      "| of its assets in...|[ holding, holdin...|   14|\n",
      "| holding each sto...|                  []|    8|\n",
      "|http://www.wisdom...|                  []|    7|\n",
      "| excluding amount...|                  []|    6|\n",
      "| \"\"blue-chip\"\" U....|[ excluding, excl...|    5|\n",
      "|   futures contracts|[ short, short po...|    5|\n",
      "|http://www.direxi...|                  []|    5|\n",
      "|000 companies in ...|                  []|    4|\n",
      "| plus the amount ...|[ in, in the, the...|    4|\n",
      "|       Entertainment|[discovery inc, i...|    3|\n",
      "| taxable securiti...|          [ utility]|    3|\n",
      "| as well as Ameri...|                  []|    3|\n",
      "|http://www.vangua...|                  []|    3|\n",
      "| subject to a max...|                  []|    3|\n",
      "|http://www.curren...|                  []|    3|\n",
      "+--------------------+--------------------+-----+\n",
      "only showing top 20 rows\n",
      "\n"
     ]
    }
   ],
   "source": [
    "industry_frequency.show()"
   ]
  },
  {
   "cell_type": "code",
   "execution_count": 45,
   "metadata": {},
   "outputs": [
    {
     "data": {
      "image/png": "[encoded data removed]",
      "text/plain": [
       "<Figure size 432x288 with 1 Axes>"
      ]
     },
     "metadata": {
      "needs_background": "light"
     },
     "output_type": "display_data"
    }
   ],
   "source": [
    "display = industry_frequency.toPandas()\n",
    "display[['count']].plot()\n",
    "plt.show()"
   ]
  },
  {
   "cell_type": "code",
   "execution_count": 32,
   "metadata": {},
   "outputs": [],
   "source": [
    "tokens = Tokenizer(inputCol='jobdescription', outputCol='tokens')\n",
    "newds = tokens.transform(ds)"
   ]
  },
  {
   "cell_type": "code",
   "execution_count": 33,
   "metadata": {},
   "outputs": [],
   "source": [
    "dsngrams = NGram(n=2, inputCol='tokens', outputCol='dsngrams')\n",
    "newds = dsngrams.transform(newds)"
   ]
  },
  {
   "cell_type": "code",
   "execution_count": 34,
   "metadata": {},
   "outputs": [
    {
     "data": {
      "text/plain": [
       "['position',\n",
       " 'company',\n",
       " 'jobdescription',\n",
       " 'reviews',\n",
       " 'location',\n",
       " 'tokens',\n",
       " 'dsngrams']"
      ]
     },
     "execution_count": 34,
     "metadata": {},
     "output_type": "execute_result"
    }
   ],
   "source": [
    "# display all columns in dataframe\n",
    "newds.columns"
   ]
  },
  {
   "cell_type": "code",
   "execution_count": 37,
   "metadata": {},
   "outputs": [
    {
     "data": {
      "text/plain": [
       "[Row(dsngrams=[' generating', 'generating awareness', 'awareness of', 'of als', 'als tdi;', 'tdi; outreach', 'outreach including', 'including attending', 'attending and', 'and speaking', 'speaking at', 'at events', 'events as', 'as well', 'well as', 'as personally', 'personally cultivates', 'cultivates relationships', 'relationships with', 'with patients'])]"
      ]
     },
     "execution_count": 37,
     "metadata": {},
     "output_type": "execute_result"
    }
   ],
   "source": [
    "newds.select('dsngrams').limit(1).take(2)"
   ]
  },
  {
   "cell_type": "code",
   "execution_count": 38,
   "metadata": {},
   "outputs": [
    {
     "name": "stdout",
     "output_type": "stream",
     "text": [
      "+--------------------+\n",
      "|            location|\n",
      "+--------------------+\n",
      "|                 GA.|\n",
      "|            database|\n",
      "| has served as on...|\n",
      "| has an open posi...|\n",
      "| or other quantit...|\n",
      "| Algorithms/Incor...|\n",
      "| regulatory and p...|\n",
      "| impactful solutions|\n",
      "|             Atlanta|\n",
      "| signal processin...|\n",
      "|     cloud computing|\n",
      "| with expert supp...|\n",
      "| and a vibrant ec...|\n",
      "|           designers|\n",
      "|             back-up|\n",
      "| responding to us...|\n",
      "|     including sales|\n",
      "| and a vibrant ec...|\n",
      "|           designers|\n",
      "|     data scientists|\n",
      "+--------------------+\n",
      "only showing top 20 rows\n",
      "\n"
     ]
    }
   ],
   "source": [
    "ds.select('location').show()"
   ]
  },
  {
   "cell_type": "code",
   "execution_count": 39,
   "metadata": {},
   "outputs": [
    {
     "name": "stdout",
     "output_type": "stream",
     "text": [
      "+--------+--------------------+\n",
      "|location|            dsngrams|\n",
      "+--------+--------------------+\n",
      "|     GA.|          generating|\n",
      "|     GA.|generating awareness|\n",
      "|     GA.|        awareness of|\n",
      "|     GA.|              of als|\n",
      "|     GA.|            als tdi;|\n",
      "|     GA.|       tdi; outreach|\n",
      "|     GA.|  outreach including|\n",
      "|     GA.| including attending|\n",
      "|     GA.|       attending and|\n",
      "|     GA.|        and speaking|\n",
      "|     GA.|         speaking at|\n",
      "|     GA.|           at events|\n",
      "|     GA.|           events as|\n",
      "|     GA.|             as well|\n",
      "|     GA.|             well as|\n",
      "|     GA.|       as personally|\n",
      "|     GA.|personally cultiv...|\n",
      "|     GA.|cultivates relati...|\n",
      "|     GA.|  relationships with|\n",
      "|     GA.|       with patients|\n",
      "+--------+--------------------+\n",
      "only showing top 20 rows\n",
      "\n"
     ]
    }
   ],
   "source": [
    "new1 = newds.filter(ds.location.isNotNull()).select(['dsngrams','location']).limit(5).select(\n",
    "    'location',F.explode('dsngrams').alias('dsngrams')).show()"
   ]
  },
  {
   "cell_type": "code",
   "execution_count": 40,
   "metadata": {},
   "outputs": [],
   "source": [
    "location_frequency = newds.filter(ds.location.isNotNull()).groupBy('location','dsngrams')\\\n",
    "        .count().sort('count', ascending=True)"
   ]
  },
  {
   "cell_type": "code",
   "execution_count": 41,
   "metadata": {},
   "outputs": [
    {
     "name": "stdout",
     "output_type": "stream",
     "text": [
      "+--------------------+--------------------+-----+\n",
      "|            location|            dsngrams|count|\n",
      "+--------------------+--------------------+-----+\n",
      "| engineering or r...|      [ mathematics]|    1|\n",
      "| and increase cap...|[ and, and moneta...|    1|\n",
      "| and creative thi...|[ commitment, com...|    1|\n",
      "| South Jersey / P...|[ northern, north...|    1|\n",
      "| and MS Office (i...|[ adobe, adobe cr...|    1|\n",
      "| innovation and r...|           [ region]|    1|\n",
      "|       communication|       [ facilitate]|    1|\n",
      "| and training and...|[ internal, inter...|    1|\n",
      "| and other clinic...|[ study, study ma...|    1|\n",
      "|           economics|[ statistics, sta...|    1|\n",
      "| and work with Pa...|      [ reliability]|    1|\n",
      "| as it is incredi...|[ fascinating, fa...|    1|\n",
      "| Commercial Real ...|[ government, gov...|    1|\n",
      "|     factor analysis|[ predictive, pre...|    1|\n",
      "|            analysis|[ applying, apply...|    1|\n",
      "|               HBase|            [ kafka]|    1|\n",
      "|                 VPN|        [ firewalls]|    1|\n",
      "|          meditation|         [ massages]|    1|\n",
      "|        segmentation|[ data, data anal...|    1|\n",
      "| analytical appro...|      [ biophysical]|    1|\n",
      "+--------------------+--------------------+-----+\n",
      "only showing top 20 rows\n",
      "\n"
     ]
    }
   ],
   "source": [
    "location_frequency.show()"
   ]
  },
  {
   "cell_type": "code",
   "execution_count": 42,
   "metadata": {},
   "outputs": [
    {
     "data": {
      "text/plain": [
       "['location', 'dsngrams', 'count']"
      ]
     },
     "execution_count": 42,
     "metadata": {},
     "output_type": "execute_result"
    }
   ],
   "source": [
    "# display all columns in dataframe\n",
    "location_frequency.columns"
   ]
  },
  {
   "cell_type": "code",
   "execution_count": 43,
   "metadata": {},
   "outputs": [
    {
     "data": {
      "text/plain": [
       "[('location', 'string'), ('dsngrams', 'array<string>'), ('count', 'bigint')]"
      ]
     },
     "execution_count": 43,
     "metadata": {},
     "output_type": "execute_result"
    }
   ],
   "source": [
    "location_frequency.dtypes"
   ]
  },
  {
   "cell_type": "code",
   "execution_count": 46,
   "metadata": {},
   "outputs": [
    {
     "data": {
      "image/png": "[encoded data removed]",
      "text/plain": [
       "<Figure size 432x288 with 1 Axes>"
      ]
     },
     "metadata": {
      "needs_background": "light"
     },
     "output_type": "display_data"
    }
   ],
   "source": [
    "locdisplay = industry_frequency.toPandas()\n",
    "locdisplay[['count']].plot()\n",
    "plt.show()"
   ]
  },
  {
   "cell_type": "code",
   "execution_count": null,
   "metadata": {},
   "outputs": [],
   "source": []
  },
  {
   "cell_type": "code",
   "execution_count": null,
   "metadata": {},
   "outputs": [],
   "source": []
  },
  {
   "cell_type": "code",
   "execution_count": 48,
   "metadata": {},
   "outputs": [
    {
     "data": {
      "text/plain": [
       "pyspark.sql.dataframe.DataFrame"
      ]
     },
     "execution_count": 48,
     "metadata": {},
     "output_type": "execute_result"
    }
   ],
   "source": [
    "# check type for ds dataframe\n",
    "type(ds)"
   ]
  }
 ],
 "metadata": {
  "kernelspec": {
   "display_name": "Python 3",
   "language": "python",
   "name": "python3"
  },
  "language_info": {
   "codemirror_mode": {
    "name": "ipython",
    "version": 3
   },
   "file_extension": ".py",
   "mimetype": "text/x-python",
   "name": "python",
   "nbconvert_exporter": "python",
   "pygments_lexer": "ipython3",
   "version": "3.7.3"
  }
 },
 "nbformat": 4,
 "nbformat_minor": 4
}
